{
 "cells": [
  {
   "cell_type": "code",
   "execution_count": 60,
   "metadata": {
    "collapsed": true
   },
   "outputs": [],
   "source": [
    "import json\n",
    "from tabulate import tabulate\n",
    "from devFile import DecodeUrl\n",
    "\n",
    "f = open('locationPresets' )\n",
    "presets = json.load(f)"
   ]
  },
  {
   "cell_type": "code",
   "execution_count": 24,
   "outputs": [],
   "source": [
    "dataDict = {}\n",
    "datalst = []\n",
    "count = 0\n",
    "for i in presets:\n",
    "\n",
    "    dataDict[count] = list(i.items())\n",
    "    count+=1"
   ],
   "metadata": {
    "collapsed": false
   }
  },
  {
   "cell_type": "code",
   "execution_count": 54,
   "outputs": [
    {
     "data": {
      "text/plain": "[('FL',\n  [{'map_bounds': {'west': -87.634896,\n     'east': -79.974306,\n     'south': 24.396308,\n     'north': 31.000968},\n    'region_selector': [{'regionId': 14, 'regionType': 2}]},\n   {'price_min': {'min': 1000000}, 'sort_value': {'value': 'pricea'}}])]"
     },
     "execution_count": 54,
     "metadata": {},
     "output_type": "execute_result"
    }
   ],
   "source": [
    "\n"
   ],
   "metadata": {
    "collapsed": false
   }
  },
  {
   "cell_type": "code",
   "execution_count": 51,
   "outputs": [
    {
     "name": "stdout",
     "output_type": "stream",
     "text": [
      "  Index  City/State\n",
      "-------  ---------------\n",
      "      0  NY\n",
      "      1  New York, NY\n",
      "      2  Long Island, NY\n",
      "      3  NJ\n",
      "      4  CT\n",
      "      5  VT\n",
      "      6  ME\n",
      "      7  MA\n",
      "      8  RI\n",
      "      9  PA\n",
      "     10  MD\n",
      "     11  VA\n",
      "     12  FL\n",
      "     13  CA\n"
     ]
    }
   ],
   "source": [
    "table = []\n",
    "for key, value in dataDict.items():\n",
    "    selections = (str(key)+': '+str(value[0][0]))\n",
    "    table.append([str(key),str(value[0][0])])\n",
    "print(tabulate(table, headers=[\"Index\",\"City/State\"]))\n",
    "\n",
    "\n",
    "\n"
   ],
   "metadata": {
    "collapsed": false
   }
  },
  {
   "cell_type": "code",
   "execution_count": 59,
   "outputs": [
    {
     "name": "stdout",
     "output_type": "stream",
     "text": [
      "Enter an index\n"
     ]
    }
   ],
   "source": [
    "print(\"Enter an index\")\n",
    "selectedIndex = int(input())\n",
    "row = dataDict[selectedIndex]\n",
    "cityState = row[0]\n",
    "metrics = row[0][1]\n"
   ],
   "metadata": {
    "collapsed": false
   }
  },
  {
   "cell_type": "code",
   "execution_count": 61,
   "outputs": [],
   "source": [
    "decoder = DecodeUrl()"
   ],
   "metadata": {
    "collapsed": false
   }
  },
  {
   "cell_type": "code",
   "execution_count": 64,
   "outputs": [
    {
     "data": {
      "text/plain": "\"https://www.zillow.com/search/GetSearchPageState.htm?searchQueryState={'pagination':{'currentPage':2},'mapBounds':{'west':-73.79296842578125,'east':-71.72204557421875,'south':40.76148123651606,'north':42.23631979772253},'isMapVisible':False,'filterState':{'sortSelection':{'value':'globalrelevanceex'},'beds':{'min':3},'isAllHomes':{'value':True},'isCondo':{'value':False},'isApartmentOrCondo':{'value':False},'isLotLand':{'value':False},'isApartment':{'value':False},'isMultiFamily':{'value':False},'isManufactured':{'value':False},'price':{'min':1000000},'sort':{'value':'pricea'}},'isListVisible':True,'regionSelection':{'regionId':11,'regionType':2},'requestId':'2'}&wants={'cat1':['listResults'],'cat2':['total']}&requestId=5&\""
     },
     "execution_count": 64,
     "metadata": {},
     "output_type": "execute_result"
    }
   ],
   "source": [
    "setFilters = decoder.set_url_filters(metrics)\n",
    "decoder.generate_url(setFilters,2)"
   ],
   "metadata": {
    "collapsed": false
   }
  }
 ],
 "metadata": {
  "kernelspec": {
   "display_name": "Python 3",
   "language": "python",
   "name": "python3"
  },
  "language_info": {
   "codemirror_mode": {
    "name": "ipython",
    "version": 2
   },
   "file_extension": ".py",
   "mimetype": "text/x-python",
   "name": "python",
   "nbconvert_exporter": "python",
   "pygments_lexer": "ipython2",
   "version": "2.7.6"
  }
 },
 "nbformat": 4,
 "nbformat_minor": 0
}
